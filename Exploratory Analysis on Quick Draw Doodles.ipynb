{
 "cells": [
  {
   "cell_type": "code",
   "execution_count": 1,
   "metadata": {},
   "outputs": [],
   "source": [
    "%load_ext autoreload\n",
    "%autoreload 2\n",
    "%matplotlib inline"
   ]
  },
  {
   "cell_type": "code",
   "execution_count": 36,
   "metadata": {},
   "outputs": [],
   "source": [
    "import pandas as pd\n",
    "import numpy as np\n",
    "import matplotlib.pylab as plt\n",
    "import ast\n",
    "import glob"
   ]
  },
  {
   "cell_type": "markdown",
   "metadata": {},
   "source": [
    "Roughly ~50 million doodles\n",
    "\n",
    "340 classes\n",
    "\n",
    "Reasonable distribution of samples across classes (maybe max factor of 2 difference) - 100,000-300,000 images per class"
   ]
  },
  {
   "cell_type": "code",
   "execution_count": 35,
   "metadata": {},
   "outputs": [],
   "source": [
    "IMAGE_LOC = '/nvme/DoodleData/'"
   ]
  },
  {
   "cell_type": "code",
   "execution_count": 45,
   "metadata": {},
   "outputs": [],
   "source": [
    "label_list = glob.glob(f'{IMAGE_LOC}/*.csv')"
   ]
  },
  {
   "cell_type": "code",
   "execution_count": 47,
   "metadata": {},
   "outputs": [],
   "source": [
    "chosen_labels = label_list[0:3]"
   ]
  },
  {
   "cell_type": "code",
   "execution_count": 54,
   "metadata": {},
   "outputs": [],
   "source": [
    "N_IMAGES_TO_READ = 1000 #per class"
   ]
  },
  {
   "cell_type": "code",
   "execution_count": 63,
   "metadata": {},
   "outputs": [],
   "source": [
    "def generate_csv(chosen_labels):\n",
    "    df_list = []\n",
    "    \n",
    "    for file in chosen_labels:\n",
    "        df = pd.read_csv(file).sample(N_IMAGES_TO_READ)\n",
    "        \n",
    "        df_list.append(df)\n",
    "    \n",
    "    df = pd.concat(df_list, axis=0).reset_index()\n",
    "    \n",
    "    return df\n",
    "\n",
    "def draw_image(draw_string):\n",
    "    mat = np.array(ast.literal_eval(draw_string))\n",
    "    for entry in mat:\n",
    "        plt.plot(entry[0], entry[1])"
   ]
  },
  {
   "cell_type": "code",
   "execution_count": 60,
   "metadata": {},
   "outputs": [],
   "source": [
    "df = generate_csv(chosen_labels)"
   ]
  },
  {
   "cell_type": "code",
   "execution_count": 62,
   "metadata": {},
   "outputs": [
    {
     "data": {
      "text/html": [
       "<div>\n",
       "<style scoped>\n",
       "    .dataframe tbody tr th:only-of-type {\n",
       "        vertical-align: middle;\n",
       "    }\n",
       "\n",
       "    .dataframe tbody tr th {\n",
       "        vertical-align: top;\n",
       "    }\n",
       "\n",
       "    .dataframe thead th {\n",
       "        text-align: right;\n",
       "    }\n",
       "</style>\n",
       "<table border=\"1\" class=\"dataframe\">\n",
       "  <thead>\n",
       "    <tr style=\"text-align: right;\">\n",
       "      <th></th>\n",
       "      <th>index</th>\n",
       "      <th>countrycode</th>\n",
       "      <th>drawing</th>\n",
       "      <th>key_id</th>\n",
       "      <th>recognized</th>\n",
       "      <th>timestamp</th>\n",
       "      <th>word</th>\n",
       "    </tr>\n",
       "  </thead>\n",
       "  <tbody>\n",
       "    <tr>\n",
       "      <th>0</th>\n",
       "      <td>27936</td>\n",
       "      <td>US</td>\n",
       "      <td>[[[0, 7, 5, 9, 11, 41, 49, 74, 120, 119, 110, ...</td>\n",
       "      <td>6324268147146752</td>\n",
       "      <td>True</td>\n",
       "      <td>2017-03-02 14:37:12.150620</td>\n",
       "      <td>power outlet</td>\n",
       "    </tr>\n",
       "    <tr>\n",
       "      <th>1</th>\n",
       "      <td>138141</td>\n",
       "      <td>US</td>\n",
       "      <td>[[[40, 96, 199, 216, 227, 203, 172, 168, 94, 2...</td>\n",
       "      <td>5075671392976896</td>\n",
       "      <td>True</td>\n",
       "      <td>2017-03-11 20:44:51.839820</td>\n",
       "      <td>power outlet</td>\n",
       "    </tr>\n",
       "    <tr>\n",
       "      <th>2</th>\n",
       "      <td>155911</td>\n",
       "      <td>UA</td>\n",
       "      <td>[[[79, 70, 58, 50, 49, 58, 89, 112, 144, 154, ...</td>\n",
       "      <td>5066348629590016</td>\n",
       "      <td>True</td>\n",
       "      <td>2017-03-10 15:53:18.339640</td>\n",
       "      <td>power outlet</td>\n",
       "    </tr>\n",
       "    <tr>\n",
       "      <th>3</th>\n",
       "      <td>100182</td>\n",
       "      <td>US</td>\n",
       "      <td>[[[144, 80, 44, 38, 0, 49, 139, 163, 166, 164,...</td>\n",
       "      <td>5709530153353216</td>\n",
       "      <td>True</td>\n",
       "      <td>2017-01-23 02:11:13.741200</td>\n",
       "      <td>power outlet</td>\n",
       "    </tr>\n",
       "    <tr>\n",
       "      <th>4</th>\n",
       "      <td>65142</td>\n",
       "      <td>CA</td>\n",
       "      <td>[[[8, 10, 5, 4, 7, 12, 46, 126, 214, 219, 222,...</td>\n",
       "      <td>5665050628980736</td>\n",
       "      <td>True</td>\n",
       "      <td>2017-03-03 17:24:03.745580</td>\n",
       "      <td>power outlet</td>\n",
       "    </tr>\n",
       "  </tbody>\n",
       "</table>\n",
       "</div>"
      ],
      "text/plain": [
       "    index countrycode                                            drawing  \\\n",
       "0   27936          US  [[[0, 7, 5, 9, 11, 41, 49, 74, 120, 119, 110, ...   \n",
       "1  138141          US  [[[40, 96, 199, 216, 227, 203, 172, 168, 94, 2...   \n",
       "2  155911          UA  [[[79, 70, 58, 50, 49, 58, 89, 112, 144, 154, ...   \n",
       "3  100182          US  [[[144, 80, 44, 38, 0, 49, 139, 163, 166, 164,...   \n",
       "4   65142          CA  [[[8, 10, 5, 4, 7, 12, 46, 126, 214, 219, 222,...   \n",
       "\n",
       "             key_id  recognized                   timestamp          word  \n",
       "0  6324268147146752        True  2017-03-02 14:37:12.150620  power outlet  \n",
       "1  5075671392976896        True  2017-03-11 20:44:51.839820  power outlet  \n",
       "2  5066348629590016        True  2017-03-10 15:53:18.339640  power outlet  \n",
       "3  5709530153353216        True  2017-01-23 02:11:13.741200  power outlet  \n",
       "4  5665050628980736        True  2017-03-03 17:24:03.745580  power outlet  "
      ]
     },
     "execution_count": 62,
     "metadata": {},
     "output_type": "execute_result"
    }
   ],
   "source": [
    "df.head()"
   ]
  },
  {
   "cell_type": "code",
   "execution_count": 68,
   "metadata": {},
   "outputs": [
    {
     "data": {
      "image/png": "[encoded data removed]",
      "text/plain": [
       "<Figure size 432x288 with 1 Axes>"
      ]
     },
     "metadata": {
      "needs_background": "light"
     },
     "output_type": "display_data"
    }
   ],
   "source": [
    "draw_image(df['drawing'][2200])"
   ]
  },
  {
   "cell_type": "code",
   "execution_count": 70,
   "metadata": {},
   "outputs": [
    {
     "data": {
      "text/plain": [
       "'key'"
      ]
     },
     "execution_count": 70,
     "metadata": {},
     "output_type": "execute_result"
    }
   ],
   "source": [
    "df['word'][2200]"
   ]
  },
  {
   "cell_type": "markdown",
   "metadata": {},
   "source": [
    "# Model for multi-class classification"
   ]
  },
  {
   "cell_type": "code",
   "execution_count": null,
   "metadata": {},
   "outputs": [],
   "source": []
  }
 ],
 "metadata": {
  "kernelspec": {
   "display_name": "Python 3",
   "language": "python",
   "name": "python3"
  },
  "language_info": {
   "codemirror_mode": {
    "name": "ipython",
    "version": 3
   },
   "file_extension": ".py",
   "mimetype": "text/x-python",
   "name": "python",
   "nbconvert_exporter": "python",
   "pygments_lexer": "ipython3",
   "version": "3.6.8"
  }
 },
 "nbformat": 4,
 "nbformat_minor": 2
}
