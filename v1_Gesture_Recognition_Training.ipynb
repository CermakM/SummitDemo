{
 "cells": [
  {
   "cell_type": "markdown",
   "metadata": {},
   "source": [
    "## Gesture Recognition Training for Summit AI Demo\n",
    "\n",
    "* Read training data from S3\n",
    "* Combine multiple json files into single time-series.\n",
    "* Featurize time-series data\n",
    "* Train and test Random Forest model\n",
    "* Train and test Feed-Forward model\n",
    "* Save model for use by TF-Serve"
   ]
  },
  {
   "cell_type": "code",
   "execution_count": 1,
   "metadata": {},
   "outputs": [],
   "source": [
    "%load_ext autoreload\n",
    "%autoreload 2\n",
    "%matplotlib inline"
   ]
  },
  {
   "cell_type": "code",
   "execution_count": 2,
   "metadata": {},
   "outputs": [],
   "source": [
    "import s3fs\n",
    "import pandas as pd\n",
    "import numpy as np\n",
    "import scipy.stats\n",
    "import time\n",
    "import multiprocessing as mp\n",
    "from natsort import natsorted\n",
    "import json\n",
    "import matplotlib.pylab as plt\n",
    "\n",
    "from sklearn.ensemble import RandomForestClassifier\n",
    "from sklearn.model_selection import train_test_split\n",
    "from sklearn.metrics import confusion_matrix\n",
    "from sklearn.preprocessing import LabelEncoder, OneHotEncoder\n",
    "\n",
    "import tensorflow as tf\n",
    "from tensorflow import keras"
   ]
  },
  {
   "cell_type": "code",
   "execution_count": 3,
   "metadata": {},
   "outputs": [],
   "source": [
    "def collect_featured_data_from_s3(path, fs, label):\n",
    "    top_dir = fs.ls(path)\n",
    "    data = []\n",
    "    \n",
    "    for files in top_dir:\n",
    "        # df = None\n",
    "        bottom_dir = natsorted(fs.ls(files))\n",
    "        df = combine_multiple_json(bottom_dir)\n",
    "        df = turn_jsons_into_joint_dataframe(df)\n",
    "        df = get_accleration_timeseries(df)\n",
    "        params = [df, label, np.arange(0,100,10)]\n",
    "        example = featurize(params)\n",
    "        data.append(example)\n",
    "        \n",
    "    return data # a list that has a featurized vector (as a dictioanry) for each folder in top_dir (each capture session)\n",
    "\n",
    "\n",
    "def mp_collect_featured_data_from_s3(path, fs, label):\n",
    "    top_dir = fs.ls(path)\n",
    "    data = []\n",
    "    data_params = []\n",
    "    \n",
    "    for files in top_dir:\n",
    "        # df = None\n",
    "        bottom_dir = natsorted(fs.ls(files))\n",
    "        df = combine_multiple_json(bottom_dir)\n",
    "        df = turn_jsons_into_joint_dataframe(df)\n",
    "        df = get_accleration_timeseries(df)\n",
    "        params = (df, label, np.arange(0,100,10))\n",
    "        data_params.append(params)\n",
    "        \n",
    "    #then = time.time()\n",
    "    pool = mp.Pool(processes=8)\n",
    "    data = pool.map(featurize,data_params)\n",
    "    #print((time.time()-then)/60, \"minutes\")\n",
    "        \n",
    "    return data # a list that has a featurized vector (as a dictioanry) for each folder in top_dir (each capture session)\n"
   ]
  },
  {
   "cell_type": "code",
   "execution_count": 4,
   "metadata": {},
   "outputs": [],
   "source": [
    "def combine_multiple_json(bottom_dir):\n",
    "    \n",
    "    df = pd.DataFrame([])\n",
    "    obj = []\n",
    "    \n",
    "    for partial_json  in bottom_dir:\n",
    "        x = fs.open(partial_json)\n",
    "        data = x.read()\n",
    "        x.close()\n",
    "        temp = json.loads(data)\n",
    "        obj.append(temp['motion'])\n",
    "        \n",
    "    return obj # list of motion data in multiple json files representing one capture session\n",
    "\n",
    "def turn_jsons_into_joint_dataframe(a_list):\n",
    "    df = pd.DataFrame()\n",
    "    for item in a_list:\n",
    "        temp = pd.io.json.json_normalize(item)\n",
    "        df = df.append(temp, ignore_index=True, sort=False)\n",
    "        df = df.iloc[:,0:3]\n",
    "  \n",
    "    return df # 3xn dataframe of acceleration data  \n",
    "\n",
    "def get_accleration_timeseries(timeseries):\n",
    "    \n",
    "    timeseries = timeseries.apply((lambda x: x**2))\n",
    "    timeseries = timeseries.sum(axis=1)\n",
    "    timeseries = timeseries.apply(np.sqrt)\n",
    "    \n",
    "    return timeseries # 1xn Series \n",
    "\n",
    "def featurize(params):\n",
    "    ts = params[0]\n",
    "    label = params[1]\n",
    "    bins = params[2]\n",
    "    mean = np.mean(ts)\n",
    "    median = np.median(ts)\n",
    "    std = np.std(ts)\n",
    "    length = len(ts)\n",
    "    kurtosis = scipy.stats.kurtosis(ts)\n",
    "    \n",
    "    n,b,p = plt.hist(ts, bins=bins)\n",
    "    n = np.array(n)/float(np.sum(n)) #normalize i.e. fraction of entries in each bin\n",
    "    \n",
    "    if median == 0: \n",
    "        features = {'mean_over_median': 0, #dimensionless            \n",
    "                    'std_over_median': 0, #dimensionless            \n",
    "                    'length': length,\n",
    "                    'kurtosis': kurtosis, #already dimensionless by definition\n",
    "                   }\n",
    "        \n",
    "    else: \n",
    "        features = {'mean_over_median': mean/median, #dimensionless            \n",
    "            'std_over_median': std/median, #dimensionless            \n",
    "            'length': length,\n",
    "            'kurtosis': kurtosis, #already dimensionless by definition\n",
    "           }\n",
    "        \n",
    "    for i, val in enumerate(n):\n",
    "        features[f'binfrac_{i}'] = val\n",
    "    \n",
    "    features['label'] = label\n",
    "    \n",
    "    \n",
    "    return features\n",
    "    "
   ]
  },
  {
   "cell_type": "markdown",
   "metadata": {},
   "source": [
    "### Get Data\n",
    "\n",
    "Pull gesture data from S3 and convert it into a featurized representation. "
   ]
  },
  {
   "cell_type": "code",
   "execution_count": null,
   "metadata": {},
   "outputs": [],
   "source": [
    "then = time.time()\n",
    "\n",
    "path_to_data = 'cchase-rh-demo-4/mock-server-data/motions/2019-02-27'\n",
    "fs = s3fs.S3FileSystem()\n",
    "gesture_O = mp_collect_featured_data_from_s3(path_to_data,fs, 'O')\n",
    "  \n",
    "print((time.time()-then)/60, \"minutes\")"
   ]
  },
  {
   "cell_type": "code",
   "execution_count": null,
   "metadata": {},
   "outputs": [],
   "source": [
    "then = time.time()\n",
    "\n",
    "path_to_data = 'cchase-rh-demo-4/mock-server-data/motions/2019-02-26'\n",
    "fs = s3fs.S3FileSystem()\n",
    "gesture_X = mp_collect_featured_data_from_s3(path_to_data,fs, 'X')\n",
    "  \n",
    "print((time.time()-then)/60, \"minutes\")"
   ]
  },
  {
   "cell_type": "code",
   "execution_count": null,
   "metadata": {},
   "outputs": [],
   "source": [
    "df  ==  pd.DataFrame(gesture_Ogesture[:185] + gesture_X)"
   ]
  },
  {
   "cell_type": "markdown",
   "metadata": {},
   "source": [
    "Or load from local csv files"
   ]
  },
  {
   "cell_type": "code",
   "execution_count": 5,
   "metadata": {},
   "outputs": [],
   "source": [
    "# _train_df = pd.read_csv('data/accelerometer/xo/train.csv')\n",
    "# _test_df = pd.read_csv('data/accelerometer/xo/test.csv')\n",
    "\n",
    "# df = pd.concat((test_df, train_df))\n",
    "\n",
    "# del _train_df\n",
    "# del _test_df"
   ]
  },
  {
   "cell_type": "markdown",
   "metadata": {},
   "source": [
    "### Model Training\n",
    "\n",
    "Split the data for training and testing with both a Random Forest model and a Feed-Forward network. "
   ]
  },
  {
   "cell_type": "code",
   "execution_count": null,
   "metadata": {},
   "outputs": [],
   "source": [
    "df = df.dropna()"
   ]
  },
  {
   "cell_type": "code",
   "execution_count": 7,
   "metadata": {},
   "outputs": [
    {
     "name": "stdout",
     "output_type": "stream",
     "text": [
      "train size = (414, 14)\n",
      "test size = (138, 14)\n",
      "X    216\n",
      "O    198\n",
      "Name: label, dtype: int64\n",
      "O    76\n",
      "X    62\n",
      "Name: label, dtype: int64\n"
     ]
    },
    {
     "name": "stderr",
     "output_type": "stream",
     "text": [
      "/home/macermak/anaconda3/lib/python3.6/site-packages/sklearn/model_selection/_split.py:2179: FutureWarning: From version 0.21, test_size will always complement train_size unless both are specified.\n",
      "  FutureWarning)\n"
     ]
    }
   ],
   "source": [
    "train_df, test_df = train_test_split(df, train_size=0.75)\n",
    "print(f'train size = {train_df.shape}')\n",
    "print(f'test size = {test_df.shape}')\n",
    "\n",
    "print(train_df['label'].value_counts())\n",
    "print(test_df['label'].value_counts())"
   ]
  },
  {
   "cell_type": "code",
   "execution_count": 8,
   "metadata": {},
   "outputs": [],
   "source": [
    "train_df = train_df.dropna()\n",
    "test_df = test_df.dropna()"
   ]
  },
  {
   "cell_type": "markdown",
   "metadata": {},
   "source": [
    "#### Random Forest (sklearn)"
   ]
  },
  {
   "cell_type": "code",
   "execution_count": 9,
   "metadata": {},
   "outputs": [
    {
     "name": "stdout",
     "output_type": "stream",
     "text": [
      "train acc = 0.9637681159420289, test_acc = 0.9202898550724637\n"
     ]
    }
   ],
   "source": [
    "model = RandomForestClassifier(max_depth=5, n_estimators=100, n_jobs=10)\n",
    "\n",
    "model.fit(train_df.drop('label', axis=1), train_df['label'])\n",
    "\n",
    "train_pred = model.predict(train_df.drop('label', axis=1))\n",
    "train_labels = train_df['label']\n",
    "train_acc = np.sum(train_pred==train_labels) / len(train_pred)\n",
    "\n",
    "test_pred = model.predict(test_df.drop('label', axis=1))\n",
    "test_labels = test_df['label']\n",
    "test_acc = np.sum(test_pred==test_labels) / len(test_pred)\n",
    "\n",
    "print(f'train acc = {train_acc}, test_acc = {test_acc}')"
   ]
  },
  {
   "cell_type": "code",
   "execution_count": 10,
   "metadata": {},
   "outputs": [
    {
     "data": {
      "text/plain": [
       "Text(0, 0.5, 'predicted')"
      ]
     },
     "execution_count": 10,
     "metadata": {},
     "output_type": "execute_result"
    },
    {
     "data": {
      "image/png": "[encoded data removed]",
      "text/plain": [
       "<Figure size 360x360 with 1 Axes>"
      ]
     },
     "metadata": {
      "needs_background": "dark"
     },
     "output_type": "display_data"
    }
   ],
   "source": [
    "fig = plt.figure(figsize=(5,5))\n",
    "ax = plt.subplot()\n",
    "\n",
    "labels = list(test_df['label'].value_counts().index)\n",
    "\n",
    "confusion = confusion_matrix(test_labels, test_pred, labels=labels)\n",
    "ax.matshow(confusion)\n",
    "\n",
    "ax.set_xticks(range(len(labels)))\n",
    "ax.set_yticks(range(len(labels)))\n",
    "\n",
    "ax.set_xticklabels(labels, rotation=90);\n",
    "ax.set_yticklabels(labels);\n",
    "\n",
    "for i in range(len(labels)):\n",
    "    for j in range(len(labels)):        \n",
    "        ax.text(j, i, confusion[i,j], va='center', ha='center')\n",
    "        \n",
    "plt.xlabel('true')\n",
    "plt.ylabel('predicted')"
   ]
  },
  {
   "cell_type": "markdown",
   "metadata": {},
   "source": [
    "#### Feed-Forward (TF)"
   ]
  },
  {
   "cell_type": "code",
   "execution_count": 11,
   "metadata": {},
   "outputs": [],
   "source": [
    "one_hot = np.array(train_df['label'])\n",
    "label_encoder = LabelEncoder()\n",
    "integer_encoder = label_encoder.fit_transform(one_hot)\n",
    "one_hot_encoder = OneHotEncoder(sparse=False,categories='auto')\n",
    "integer_encoder = integer_encoder.reshape(len(integer_encoder),1)\n",
    "train_label = one_hot_encoder.fit_transform(integer_encoder)\n",
    "\n",
    "one_hot = np.array(test_df['label'])\n",
    "label_encoder = LabelEncoder()\n",
    "integer_encoder = label_encoder.fit_transform(one_hot)\n",
    "one_hot_encoder = OneHotEncoder(sparse=False,categories='auto')\n",
    "integer_encoder = integer_encoder.reshape(len(integer_encoder),1)\n",
    "test_label = one_hot_encoder.fit_transform(integer_encoder)"
   ]
  },
  {
   "cell_type": "code",
   "execution_count": 12,
   "metadata": {},
   "outputs": [],
   "source": [
    "model = keras.Sequential([\n",
    "    keras.layers.Dense(10, activation=tf.nn.relu, input_shape=(13,)),\n",
    "    keras.layers.Dense(2, activation=tf.nn.log_softmax)\n",
    "]) "
   ]
  },
  {
   "cell_type": "code",
   "execution_count": 13,
   "metadata": {},
   "outputs": [],
   "source": [
    "adm = tf.train.AdamOptimizer(learning_rate=1e-3)"
   ]
  },
  {
   "cell_type": "code",
   "execution_count": 14,
   "metadata": {},
   "outputs": [
    {
     "name": "stdout",
     "output_type": "stream",
     "text": [
      "WARNING:tensorflow:From /home/macermak/.local/lib/python3.6/site-packages/tensorflow/python/ops/losses/losses_impl.py:731: softmax_cross_entropy_with_logits (from tensorflow.python.ops.nn_ops) is deprecated and will be removed in a future version.\n",
      "Instructions for updating:\n",
      "\n",
      "Future major versions of TensorFlow will allow gradients to flow\n",
      "into the labels input on backprop by default.\n",
      "\n",
      "See tf.nn.softmax_cross_entropy_with_logits_v2.\n",
      "\n"
     ]
    }
   ],
   "source": [
    "model.compile(optimizer=adm, \n",
    "              loss=tf.losses.softmax_cross_entropy,\n",
    "              metrics=['accuracy'])"
   ]
  },
  {
   "cell_type": "code",
   "execution_count": 15,
   "metadata": {},
   "outputs": [],
   "source": [
    "history = model.fit( train_df.drop('label', axis=1), train_label, epochs=5000, batch_size=100, verbose=0)"
   ]
  },
  {
   "cell_type": "code",
   "execution_count": 16,
   "metadata": {},
   "outputs": [
    {
     "data": {
      "image/png": "[encoded data removed]",
      "text/plain": [
       "<Figure size 432x288 with 1 Axes>"
      ]
     },
     "metadata": {
      "needs_background": "dark"
     },
     "output_type": "display_data"
    }
   ],
   "source": [
    "plt.plot(history.history['acc'], label = 'train_accuracy',)\n",
    "plt.legend(bbox_to_anchor=(1.05, 1), loc='upper left', borderaxespad=0.)\n",
    "plt.show()"
   ]
  },
  {
   "cell_type": "code",
   "execution_count": 17,
   "metadata": {},
   "outputs": [
    {
     "name": "stdout",
     "output_type": "stream",
     "text": [
      "138/138 [==============================]138/138 [==============================] - 0s 256us/step\n",
      "\n",
      "Test accuracy: 0.7753623205682506\n"
     ]
    }
   ],
   "source": [
    "test_loss, test_acc = model.evaluate(test_df.drop('label', axis=1), test_label)\n",
    "\n",
    "print('Test accuracy:', test_acc)"
   ]
  },
  {
   "cell_type": "markdown",
   "metadata": {},
   "source": [
    "#### Save Model for Use by TF-Serve"
   ]
  },
  {
   "cell_type": "code",
   "execution_count": 38,
   "metadata": {},
   "outputs": [
    {
     "name": "stdout",
     "output_type": "stream",
     "text": [
      "rm: cannot remove 'models/pb/1552035256': No such file or directory\n",
      "INFO:tensorflow:Assets added to graph.\n",
      "INFO:tensorflow:No assets to write.\n",
      "INFO:tensorflow:SavedModel written to: b'models/pb/1552035256/saved_model.pb'\n",
      "\n",
      "Saved model:\n",
      "total 116\n",
      "-rw-r--r--. 1 macermak vpnusers 111143 Mar  8 09:54 saved_model.pb\n",
      "drwxr-xr-x. 2 macermak vpnusers   4096 Mar  8 09:54 variables\n",
      "WARNING:tensorflow:TensorFlow optimizers do not make it possible to access optimizer attributes or optimizer state after instantiation. As a result, we cannot save the optimizer as part of the model save file.You will have to compile your model again after loading it. Prefer using a Keras optimizer instead (see keras.io/optimizers).\n",
      "\n",
      "Saved model:\n",
      "total 16\n",
      "-rw-r--r--. 1 macermak vpnusers 14416 Mar  8 09:54 saved_model.h5\n"
     ]
    }
   ],
   "source": [
    "# Inspired by https://www.tensorflow.org/serving/tutorials/Serving_REST_simple\n",
    "# to save model for TF-serving\n",
    "import os\n",
    "from pathlib import Path\n",
    "from datetime import datetime as dt\n",
    "\n",
    "save = True\n",
    "ver = int(dt.now().timestamp())\n",
    "\n",
    "if save:\n",
    "    for fmt in ['pb', 'hdf5']:\n",
    "        # save model as hdf5\n",
    "        MODEL_DIR = f\"models/{fmt}\"\n",
    "        export_path = Path(MODEL_DIR, str(ver))\n",
    "\n",
    "        if fmt == 'pb':\n",
    "            # simple_save can not handle existing repository\n",
    "            !rm -r {export_path}\n",
    "\n",
    "            tf.saved_model.simple_save(\n",
    "                keras.backend.get_session(),\n",
    "                str(export_path),\n",
    "                inputs={'input_data': model.input},\n",
    "                outputs={t.name:t for t in model.outputs})\n",
    "        else:\n",
    "            # make sure directory exists\n",
    "            os.makedirs(export_path, exist_ok=True)\n",
    "            \n",
    "            model.save(Path(export_path, 'saved_model.h5'), overwrite=False)\n",
    "\n",
    "        print('\\nSaved model:')\n",
    "        !ls -l {export_path}"
   ]
  }
 ],
 "metadata": {
  "hide_input": false,
  "kernelspec": {
   "display_name": "Python 3",
   "language": "python",
   "name": "python3"
  },
  "language_info": {
   "codemirror_mode": {
    "name": "ipython",
    "version": 3
   },
   "file_extension": ".py",
   "mimetype": "text/x-python",
   "name": "python",
   "nbconvert_exporter": "python",
   "pygments_lexer": "ipython3",
   "version": "3.6.6"
  },
  "toc": {
   "base_numbering": 1,
   "nav_menu": {},
   "number_sections": true,
   "sideBar": true,
   "skip_h1_title": false,
   "title_cell": "Table of Contents",
   "title_sidebar": "Contents",
   "toc_cell": false,
   "toc_position": {},
   "toc_section_display": true,
   "toc_window_display": false
  },
  "varInspector": {
   "cols": {
    "lenName": 16,
    "lenType": 16,
    "lenVar": 40
   },
   "kernels_config": {
    "python": {
     "delete_cmd_postfix": "",
     "delete_cmd_prefix": "del ",
     "library": "var_list.py",
     "varRefreshCmd": "print(var_dic_list())"
    },
    "r": {
     "delete_cmd_postfix": ") ",
     "delete_cmd_prefix": "rm(",
     "library": "var_list.r",
     "varRefreshCmd": "cat(var_dic_list()) "
    }
   },
   "position": {
    "height": "233px",
    "left": "17.2969px",
    "right": "20px",
    "top": "119.969px",
    "width": "348px"
   },
   "types_to_exclude": [
    "module",
    "function",
    "builtin_function_or_method",
    "instance",
    "_Feature"
   ],
   "window_display": false
  }
 },
 "nbformat": 4,
 "nbformat_minor": 2
}
